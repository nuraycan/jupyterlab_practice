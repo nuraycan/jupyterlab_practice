{
 "cells": [
  {
   "cell_type": "markdown",
   "id": "31c96d10-3e4e-45f9-ad37-a54152401000",
   "metadata": {},
   "source": [
    "# Nuray CAN\n",
    "\n",
    "Notebook for assignment 7"
   ]
  },
  {
   "cell_type": "code",
   "execution_count": 1,
   "id": "d64c531e-bc8d-4f12-bac6-4ced0bc50e4c",
   "metadata": {},
   "outputs": [
    {
     "name": "stdout",
     "output_type": "stream",
     "text": [
      "Mean: 5.0\n"
     ]
    }
   ],
   "source": [
    "def compute_the_mean(numbers):\n",
    "    mean = sum(numbers) / len(numbers)\n",
    "    print(f\"Mean: {mean}\")\n",
    "    \n",
    "compute_the_mean([2,4,6,8])"
   ]
  },
  {
   "cell_type": "markdown",
   "id": "aebe9a47-303e-43cd-bf96-21c966ee1224",
   "metadata": {},
   "source": [
    "The function \"compute_mean\" calculates the mean of the input numbers and prints the result.\n",
    "Display expression:\n",
    "\n",
    "   $$\n",
    "\\bar{x} = \\frac{x_1 + x_2 + \\cdots + x_n}{n} = \\frac{1}{n} \\left( \\sum_{i=1}^{n} x_i \\right)\n",
    "$$"
   ]
  },
  {
   "cell_type": "code",
   "execution_count": null,
   "id": "fd639092-eb2b-4720-b093-f75719996abc",
   "metadata": {},
   "outputs": [],
   "source": []
  }
 ],
 "metadata": {
  "kernelspec": {
   "display_name": "Python [conda env:base] *",
   "language": "python",
   "name": "conda-base-py"
  },
  "language_info": {
   "codemirror_mode": {
    "name": "ipython",
    "version": 3
   },
   "file_extension": ".py",
   "mimetype": "text/x-python",
   "name": "python",
   "nbconvert_exporter": "python",
   "pygments_lexer": "ipython3",
   "version": "3.12.2"
  }
 },
 "nbformat": 4,
 "nbformat_minor": 5
}
